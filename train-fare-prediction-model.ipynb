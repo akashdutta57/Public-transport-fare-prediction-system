{
 "cells": [
  {
   "cell_type": "code",
   "execution_count": 1,
   "metadata": {
    "_cell_guid": "b1076dfc-b9ad-4769-8c92-a6c4dae69d19",
    "_uuid": "8f2839f25d086af736a60e9eeb907d3b93b6e0e5"
   },
   "outputs": [
    {
     "name": "stdout",
     "output_type": "stream",
     "text": [
      "/kaggle/input/renfe.csv\n"
     ]
    }
   ],
   "source": [
    "# This Python 3 environment comes with many helpful analytics libraries installed\n",
    "# It is defined by the kaggle/python docker image: https://github.com/kaggle/docker-python\n",
    "# For example, here's several helpful packages to load in \n",
    "\n",
    "import numpy as np # linear algebra\n",
    "import pandas as pd # data processing, CSV file I/O (e.g. pd.read_csv)\n",
    "\n",
    "# Input data files are available in the \"../input/\" directory.\n",
    "# For example, running this (by clicking run or pressing Shift+Enter) will list all files under the input directory\n",
    "\n",
    "import os\n",
    "for dirname, _, filenames in os.walk('/kaggle/input'):\n",
    "    for filename in filenames:\n",
    "        print(os.path.join(dirname, filename))\n",
    "\n",
    "# Any results you write to the current directory are saved as output."
   ]
  },
  {
   "cell_type": "code",
   "execution_count": 2,
   "metadata": {
    "_cell_guid": "79c7e3d0-c299-4dcb-8224-4455121ee9b0",
    "_uuid": "d629ff2d2480ee46fbb7e2d37f6b5fab8052498a"
   },
   "outputs": [
    {
     "data": {
      "text/html": [
       "<div>\n",
       "<style scoped>\n",
       "    .dataframe tbody tr th:only-of-type {\n",
       "        vertical-align: middle;\n",
       "    }\n",
       "\n",
       "    .dataframe tbody tr th {\n",
       "        vertical-align: top;\n",
       "    }\n",
       "\n",
       "    .dataframe thead th {\n",
       "        text-align: right;\n",
       "    }\n",
       "</style>\n",
       "<table border=\"1\" class=\"dataframe\">\n",
       "  <thead>\n",
       "    <tr style=\"text-align: right;\">\n",
       "      <th></th>\n",
       "      <th>Unnamed: 0</th>\n",
       "      <th>insert_date</th>\n",
       "      <th>origin</th>\n",
       "      <th>destination</th>\n",
       "      <th>start_date</th>\n",
       "      <th>end_date</th>\n",
       "      <th>train_type</th>\n",
       "      <th>price</th>\n",
       "      <th>train_class</th>\n",
       "      <th>fare</th>\n",
       "    </tr>\n",
       "  </thead>\n",
       "  <tbody>\n",
       "    <tr>\n",
       "      <th>0</th>\n",
       "      <td>0</td>\n",
       "      <td>2019-04-19 05:31:43</td>\n",
       "      <td>MADRID</td>\n",
       "      <td>SEVILLA</td>\n",
       "      <td>2019-05-29 06:20:00</td>\n",
       "      <td>2019-05-29 09:16:00</td>\n",
       "      <td>AV City</td>\n",
       "      <td>38.55</td>\n",
       "      <td>Turista</td>\n",
       "      <td>Promo</td>\n",
       "    </tr>\n",
       "    <tr>\n",
       "      <th>1</th>\n",
       "      <td>1</td>\n",
       "      <td>2019-04-19 05:31:43</td>\n",
       "      <td>MADRID</td>\n",
       "      <td>SEVILLA</td>\n",
       "      <td>2019-05-29 07:00:00</td>\n",
       "      <td>2019-05-29 09:32:00</td>\n",
       "      <td>AVE</td>\n",
       "      <td>53.40</td>\n",
       "      <td>Turista</td>\n",
       "      <td>Promo</td>\n",
       "    </tr>\n",
       "    <tr>\n",
       "      <th>2</th>\n",
       "      <td>2</td>\n",
       "      <td>2019-04-19 05:31:43</td>\n",
       "      <td>MADRID</td>\n",
       "      <td>SEVILLA</td>\n",
       "      <td>2019-05-29 07:30:00</td>\n",
       "      <td>2019-05-29 09:51:00</td>\n",
       "      <td>AVE</td>\n",
       "      <td>47.30</td>\n",
       "      <td>Turista</td>\n",
       "      <td>Promo</td>\n",
       "    </tr>\n",
       "    <tr>\n",
       "      <th>3</th>\n",
       "      <td>3</td>\n",
       "      <td>2019-04-19 05:31:43</td>\n",
       "      <td>MADRID</td>\n",
       "      <td>SEVILLA</td>\n",
       "      <td>2019-05-29 08:00:00</td>\n",
       "      <td>2019-05-29 10:32:00</td>\n",
       "      <td>AVE</td>\n",
       "      <td>69.40</td>\n",
       "      <td>Preferente</td>\n",
       "      <td>Promo</td>\n",
       "    </tr>\n",
       "    <tr>\n",
       "      <th>4</th>\n",
       "      <td>4</td>\n",
       "      <td>2019-04-19 05:31:43</td>\n",
       "      <td>MADRID</td>\n",
       "      <td>SEVILLA</td>\n",
       "      <td>2019-05-29 08:30:00</td>\n",
       "      <td>2019-05-29 11:14:00</td>\n",
       "      <td>ALVIA</td>\n",
       "      <td>NaN</td>\n",
       "      <td>Turista</td>\n",
       "      <td>Promo</td>\n",
       "    </tr>\n",
       "  </tbody>\n",
       "</table>\n",
       "</div>"
      ],
      "text/plain": [
       "   Unnamed: 0          insert_date  origin destination           start_date  \\\n",
       "0           0  2019-04-19 05:31:43  MADRID     SEVILLA  2019-05-29 06:20:00   \n",
       "1           1  2019-04-19 05:31:43  MADRID     SEVILLA  2019-05-29 07:00:00   \n",
       "2           2  2019-04-19 05:31:43  MADRID     SEVILLA  2019-05-29 07:30:00   \n",
       "3           3  2019-04-19 05:31:43  MADRID     SEVILLA  2019-05-29 08:00:00   \n",
       "4           4  2019-04-19 05:31:43  MADRID     SEVILLA  2019-05-29 08:30:00   \n",
       "\n",
       "              end_date train_type  price train_class   fare  \n",
       "0  2019-05-29 09:16:00    AV City  38.55     Turista  Promo  \n",
       "1  2019-05-29 09:32:00        AVE  53.40     Turista  Promo  \n",
       "2  2019-05-29 09:51:00        AVE  47.30     Turista  Promo  \n",
       "3  2019-05-29 10:32:00        AVE  69.40  Preferente  Promo  \n",
       "4  2019-05-29 11:14:00      ALVIA    NaN     Turista  Promo  "
      ]
     },
     "execution_count": 2,
     "metadata": {},
     "output_type": "execute_result"
    }
   ],
   "source": [
    "#Importing Datadet in notebook\n",
    "df = pd.read_csv('../input/renfe.csv')\n",
    "df.head(5)"
   ]
  },
  {
   "cell_type": "code",
   "execution_count": 3,
   "metadata": {},
   "outputs": [
    {
     "data": {
      "text/plain": [
       "Unnamed: 0          0\n",
       "insert_date         0\n",
       "origin              0\n",
       "destination         0\n",
       "start_date          0\n",
       "end_date            0\n",
       "train_type          0\n",
       "price          310681\n",
       "train_class      9664\n",
       "fare             9664\n",
       "dtype: int64"
      ]
     },
     "execution_count": 3,
     "metadata": {},
     "output_type": "execute_result"
    }
   ],
   "source": [
    "#Checking for null values\n",
    "df.isnull().sum()"
   ]
  },
  {
   "cell_type": "code",
   "execution_count": 4,
   "metadata": {},
   "outputs": [
    {
     "data": {
      "text/plain": [
       "63.38550341776677"
      ]
     },
     "execution_count": 4,
     "metadata": {},
     "output_type": "execute_result"
    }
   ],
   "source": [
    "#Finding mean of price to be filled in null places\n",
    "mean = df.price.mean()\n",
    "mean"
   ]
  },
  {
   "cell_type": "code",
   "execution_count": 5,
   "metadata": {},
   "outputs": [
    {
     "data": {
      "text/plain": [
       "Unnamed: 0        0\n",
       "insert_date       0\n",
       "origin            0\n",
       "destination       0\n",
       "start_date        0\n",
       "end_date          0\n",
       "train_type        0\n",
       "price             0\n",
       "train_class    9664\n",
       "fare           9664\n",
       "dtype: int64"
      ]
     },
     "execution_count": 5,
     "metadata": {},
     "output_type": "execute_result"
    }
   ],
   "source": [
    "#Filling null values of price column\n",
    "df.price.fillna(63.3855 , inplace = True)\n",
    "df.isnull().sum()"
   ]
  },
  {
   "cell_type": "code",
   "execution_count": 6,
   "metadata": {},
   "outputs": [
    {
     "data": {
      "text/plain": [
       "Unnamed: 0        0\n",
       "insert_date       0\n",
       "origin            0\n",
       "destination       0\n",
       "start_date        0\n",
       "end_date          0\n",
       "train_type        0\n",
       "price             0\n",
       "train_class       0\n",
       "fare           9664\n",
       "dtype: int64"
      ]
     },
     "execution_count": 6,
     "metadata": {},
     "output_type": "execute_result"
    }
   ],
   "source": [
    "# Filling train class coloumn`s null vales with Turista as it was the most common\n",
    "df.train_class.fillna(\"Turista\" , inplace = True)\n",
    "df.isnull().sum()"
   ]
  },
  {
   "cell_type": "code",
   "execution_count": 7,
   "metadata": {},
   "outputs": [
    {
     "data": {
      "text/plain": [
       "Unnamed: 0     0\n",
       "insert_date    0\n",
       "origin         0\n",
       "destination    0\n",
       "start_date     0\n",
       "end_date       0\n",
       "train_type     0\n",
       "price          0\n",
       "train_class    0\n",
       "fare           0\n",
       "dtype: int64"
      ]
     },
     "execution_count": 7,
     "metadata": {},
     "output_type": "execute_result"
    }
   ],
   "source": [
    "#Filling fare coloumn`s null vales with Promo as it was the most common\n",
    "df.fare.fillna(\"Promo\" , inplace = True)\n",
    "df.isnull().sum()"
   ]
  },
  {
   "cell_type": "code",
   "execution_count": 8,
   "metadata": {},
   "outputs": [
    {
     "data": {
      "image/png": "[encoded data removed]",
      "text/plain": [
       "<Figure size 360x360 with 1 Axes>"
      ]
     },
     "metadata": {
      "needs_background": "light"
     },
     "output_type": "display_data"
    }
   ],
   "source": [
    "#Categorical chart between price and train class\n",
    "import seaborn as sns\n",
    "import matplotlib.pyplot as plt\n",
    "\n",
    "sns.catplot(x='price' , y= 'train_class' , data = df)\n",
    "plt.show()"
   ]
  },
  {
   "cell_type": "code",
   "execution_count": 9,
   "metadata": {},
   "outputs": [
    {
     "data": {
      "image/png": "[encoded data removed]",
      "text/plain": [
       "<Figure size 360x360 with 1 Axes>"
      ]
     },
     "metadata": {
      "needs_background": "light"
     },
     "output_type": "display_data"
    }
   ],
   "source": [
    "# Categorical graph between price and train type\n",
    "sns.catplot(x='price' , y= 'train_type' , data = df)\n",
    "plt.show()"
   ]
  },
  {
   "cell_type": "code",
   "execution_count": 10,
   "metadata": {},
   "outputs": [
    {
     "data": {
      "image/png": "[encoded data removed]",
      "text/plain": [
       "<Figure size 432x288 with 1 Axes>"
      ]
     },
     "metadata": {
      "needs_background": "light"
     },
     "output_type": "display_data"
    }
   ],
   "source": [
    "#Graph to show the distribution of price\n",
    "sns.distplot(df['price'] , bins = 9 , hist = True)\n",
    "plt.show()"
   ]
  },
  {
   "cell_type": "code",
   "execution_count": 11,
   "metadata": {},
   "outputs": [
    {
     "name": "stdout",
     "output_type": "stream",
     "text": [
      "<class 'pandas.core.frame.DataFrame'>\n",
      "RangeIndex: 2579771 entries, 0 to 2579770\n",
      "Data columns (total 6 columns):\n",
      "origin         object\n",
      "destination    object\n",
      "train_type     object\n",
      "price          float64\n",
      "train_class    object\n",
      "fare           object\n",
      "dtypes: float64(1), object(5)\n",
      "memory usage: 118.1+ MB\n"
     ]
    }
   ],
   "source": [
    "# Deleting useless columns \n",
    "del df['insert_date']\n",
    "del df['start_date']\n",
    "del df['end_date']\n",
    "del df ['Unnamed: 0']\n",
    "df.info()"
   ]
  },
  {
   "cell_type": "code",
   "execution_count": 12,
   "metadata": {},
   "outputs": [
    {
     "name": "stdout",
     "output_type": "stream",
     "text": [
      "<class 'pandas.core.frame.DataFrame'>\n",
      "RangeIndex: 2579771 entries, 0 to 2579770\n",
      "Data columns (total 6 columns):\n",
      "origin         int64\n",
      "destination    int64\n",
      "train_type     int64\n",
      "price          float64\n",
      "train_class    int64\n",
      "fare           int64\n",
      "dtypes: float64(1), int64(5)\n",
      "memory usage: 118.1 MB\n"
     ]
    }
   ],
   "source": [
    "#Label encoding columns to make model train on it\n",
    "from sklearn.preprocessing import LabelEncoder\n",
    "label = LabelEncoder()\n",
    "df['origin'] = label.fit_transform(df['origin'])\n",
    "df['destination'] = label.fit_transform(df['destination'])\n",
    "df['train_type'] = label.fit_transform(df['train_type'])\n",
    "df['train_class'] = label.fit_transform(df['train_class'])\n",
    "df['fare'] = label.fit_transform(df['fare'])\n",
    "df.info()"
   ]
  },
  {
   "cell_type": "code",
   "execution_count": 13,
   "metadata": {},
   "outputs": [],
   "source": [
    "#Splitting data into train and test\n",
    "from sklearn.model_selection import train_test_split\n",
    "train , test = train_test_split(df , test_size = 0.2 , random_state = 1)\n"
   ]
  },
  {
   "cell_type": "code",
   "execution_count": 14,
   "metadata": {},
   "outputs": [],
   "source": [
    "#Further splitting\n",
    "def data_splitting(df):\n",
    "    x=df.drop(['price'], axis=1)\n",
    "    y=df['price']\n",
    "    return x, y\n",
    "x_train , y_train = data_splitting(train)\n",
    "x_test , y_test = data_splitting(test)\n"
   ]
  },
  {
   "cell_type": "code",
   "execution_count": 15,
   "metadata": {},
   "outputs": [
    {
     "data": {
      "text/plain": [
       "LinearRegression(copy_X=True, fit_intercept=True, n_jobs=None, normalize=False)"
      ]
     },
     "execution_count": 15,
     "metadata": {},
     "output_type": "execute_result"
    }
   ],
   "source": [
    "#Applying Linear regression model\n",
    "from sklearn.linear_model import LinearRegression\n",
    "log = LinearRegression()\n",
    "log.fit(x_train , y_train)"
   ]
  },
  {
   "cell_type": "code",
   "execution_count": 16,
   "metadata": {},
   "outputs": [
    {
     "name": "stdout",
     "output_type": "stream",
     "text": [
      "Training score : 0.6218071765564361\n",
      "Testing score : 0.621738264294444\n"
     ]
    }
   ],
   "source": [
    "log_train = log.score(x_train , y_train)\n",
    "log_test = log.score(x_test , y_test)\n",
    "\n",
    "print(\"Training score :\" , log_train)\n",
    "print(\"Testing score :\" , log_test)\n"
   ]
  },
  {
   "cell_type": "code",
   "execution_count": 17,
   "metadata": {},
   "outputs": [
    {
     "name": "stderr",
     "output_type": "stream",
     "text": [
      "/opt/conda/lib/python3.6/site-packages/sklearn/ensemble/forest.py:245: FutureWarning: The default value of n_estimators will change from 10 in version 0.20 to 100 in 0.22.\n",
      "  \"10 in version 0.20 to 100 in 0.22.\", FutureWarning)\n"
     ]
    },
    {
     "data": {
      "text/plain": [
       "RandomForestRegressor(bootstrap=True, criterion='mse', max_depth=None,\n",
       "                      max_features='auto', max_leaf_nodes=None,\n",
       "                      min_impurity_decrease=0.0, min_impurity_split=None,\n",
       "                      min_samples_leaf=1, min_samples_split=2,\n",
       "                      min_weight_fraction_leaf=0.0, n_estimators=10,\n",
       "                      n_jobs=None, oob_score=False, random_state=None,\n",
       "                      verbose=0, warm_start=False)"
      ]
     },
     "execution_count": 17,
     "metadata": {},
     "output_type": "execute_result"
    }
   ],
   "source": [
    "#Applying Random FOrest Regressor\n",
    "from sklearn.ensemble import RandomForestRegressor\n",
    "reg = RandomForestRegressor()\n",
    "reg.fit(x_train , y_train)"
   ]
  },
  {
   "cell_type": "code",
   "execution_count": 18,
   "metadata": {},
   "outputs": [
    {
     "name": "stdout",
     "output_type": "stream",
     "text": [
      "Training Score : 0.7995661468865369\n",
      "Testing Score : 0.8010040981239565\n"
     ]
    }
   ],
   "source": [
    "reg_train = reg.score(x_train , y_train)\n",
    "reg_test = reg.score(x_test , y_test)\n",
    "\n",
    "print(\"Training Score :\" , reg_train)\n",
    "print(\"Testing Score :\" , reg_test)"
   ]
  }
 ],
 "metadata": {
  "kernelspec": {
   "display_name": "Python 3",
   "language": "python",
   "name": "python3"
  },
  "language_info": {
   "codemirror_mode": {
    "name": "ipython",
    "version": 3
   },
   "file_extension": ".py",
   "mimetype": "text/x-python",
   "name": "python",
   "nbconvert_exporter": "python",
   "pygments_lexer": "ipython3",
   "version": "3.6.6"
  }
 },
 "nbformat": 4,
 "nbformat_minor": 1
}
